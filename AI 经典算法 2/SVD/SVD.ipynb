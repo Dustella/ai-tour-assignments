{
 "cells": [
  {
   "cell_type": "markdown",
   "metadata": {},
   "source": [
    "# 计算奇异值\n",
    "\n",
    "给一个调库的实现，然后本打算改了一下那篇CSDN的手工实现，发现那篇CSDN一样也是在调库，就没再改了。"
   ]
  },
  {
   "cell_type": "code",
   "execution_count": 5,
   "metadata": {},
   "outputs": [
    {
     "name": "stdout",
     "output_type": "stream",
     "text": [
      "U矩阵：\n",
      "[[ 0.4472136   0.89442719]\n",
      " [ 0.89442719 -0.4472136 ]]\n",
      "\n",
      "奇异值矩阵：\n",
      "[[3. 0.]\n",
      " [0. 2.]]\n",
      "\n",
      "V转置矩阵：\n",
      "[[ 7.45355992e-01  2.98142397e-01  5.96284794e-01]\n",
      " [-2.41286172e-16  8.94427191e-01 -4.47213595e-01]\n",
      " [-6.66666667e-01  3.33333333e-01  6.66666667e-01]]\n"
     ]
    }
   ],
   "source": [
    "import numpy as np\n",
    "\n",
    "# 定义一个矩阵\n",
    "A = np.array([[1, 2, 0],\n",
    "              [2, 0, 2],])\n",
    "\n",
    "# 计算奇异值分解\n",
    "U, S, VT = np.linalg.svd(A)\n",
    "\n",
    "# U矩阵\n",
    "print(\"U矩阵：\")\n",
    "print(U)\n",
    "print()\n",
    "\n",
    "# 奇异值矩阵\n",
    "print(\"奇异值矩阵：\")\n",
    "print(np.diag(S))\n",
    "print()\n",
    "\n",
    "# V转置矩阵\n",
    "print(\"V转置矩阵：\")\n",
    "print(VT)"
   ]
  }
 ],
 "metadata": {
  "kernelspec": {
   "display_name": "Python 3",
   "language": "python",
   "name": "python3"
  },
  "language_info": {
   "codemirror_mode": {
    "name": "ipython",
    "version": 3
   },
   "file_extension": ".py",
   "mimetype": "text/x-python",
   "name": "python",
   "nbconvert_exporter": "python",
   "pygments_lexer": "ipython3",
   "version": "3.12.1"
  }
 },
 "nbformat": 4,
 "nbformat_minor": 2
}
