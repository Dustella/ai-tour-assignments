{
    "cells": [
        {
            "cell_type": "code",
            "execution_count": 13,
            "metadata": {},
            "outputs": [],
            "source": [
                "import numpy as np\n",
                "\n",
                "# 加载训练数据\n",
                "X = np.array([[0, 1, 3], [0, 3, 1], [1, 2, 2], [1, 1, 3], [1, 2, 3], [0, 1, 2],\n",
                "              [1, 1, 2], [1, 1, 1], [1, 3, 1], [0, 2, 1]])\n",
                "y = np.array([-1, -1, -1, -1, -1, -1, 1, 1, -1, -1])"
            ]
        },
        {
            "cell_type": "markdown",
            "metadata": {},
            "source": [
                "**AdaBoostClassifier分类器实现：**\n",
                "\n",
                "采用sklearn的AdaBoostClassifier分类器直接求解，由于AdaBoostClassifier分类器默认采用CART决策树弱分类器，故不需要设置base_estimator参数。"
            ]
        },
        {
            "cell_type": "code",
            "execution_count": 14,
            "metadata": {},
            "outputs": [
                {
                    "name": "stdout",
                    "output_type": "stream",
                    "text": [
                        "原始输出: [-1 -1 -1 -1 -1 -1  1  1 -1 -1]\n",
                        "预测输出: [-1 -1 -1 -1 -1 -1  1  1 -1 -1]\n",
                        "预测正确率：100.00%\n"
                    ]
                }
            ],
            "source": [
                "from sklearn.ensemble import AdaBoostClassifier\n",
                "\n",
                "clf = AdaBoostClassifier()\n",
                "clf.fit(X, y)\n",
                "y_predict = clf.predict(X)\n",
                "score = clf.score(X, y)\n",
                "print(\"原始输出:\", y)\n",
                "print(\"预测输出:\", y_predict)\n",
                "print(\"预测正确率：{:.2%}\".format(score))"
            ]
        },
        {
            "cell_type": "markdown",
            "metadata": {},
            "source": [
                "### 习题8.2\n",
                "&emsp;&emsp;比较支持向量机、 AdaBoost 、Logistic回归模型的学习策略与算法"
            ]
        },
        {
            "cell_type": "markdown",
            "metadata": {},
            "source": [
                "**解答：**  \n",
                "- **支持向量机**  \n",
                "学习策略：极小化正则化合页损失，软间隔最大化；  \n",
                "学习算法：序列最小最优化算法（SMO）  \n",
                "- **AdaBoost**  \n",
                "学习策略：极小化加法模型指数损失；  \n",
                "学习算法：前向分步加法算法  \n",
                "- **Logistic回归**  \n",
                "学习策略：极大似然估计，正则化的极大似然估计；  \n",
                "学习算法：改进的迭代尺度算法，梯度下降，拟牛顿法"
            ]
        }
    ],
    "metadata": {
        "kernelspec": {
            "display_name": "Python 3",
            "language": "python",
            "name": "python3"
        },
        "language_info": {
            "codemirror_mode": {
                "name": "ipython",
                "version": 3
            },
            "file_extension": ".py",
            "mimetype": "text/x-python",
            "name": "python",
            "nbconvert_exporter": "python",
            "pygments_lexer": "ipython3",
            "version": "3.12.0"
        }
    },
    "nbformat": 4,
    "nbformat_minor": 2
}
