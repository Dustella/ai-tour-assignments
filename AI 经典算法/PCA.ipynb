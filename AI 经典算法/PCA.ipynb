{
 "cells": [
  {
   "cell_type": "markdown",
   "metadata": {},
   "source": [
    "# 主成分分析\n",
    "\n",
    "直接调库，文档 https://scikit-learn.org/stable/modules/generated/sklearn.decomposition.PCA.html"
   ]
  },
  {
   "cell_type": "code",
   "execution_count": 9,
   "metadata": {},
   "outputs": [
    {
     "name": "stdout",
     "output_type": "stream",
     "text": [
      "主成分：\n",
      "[[ 0.66451439  0.74727547]\n",
      " [-0.74727547  0.66451439]]\n",
      "\n",
      "解释方差：\n",
      "[7.02344855 0.17655145]\n",
      "\n",
      "解释方差比例：\n",
      "[0.97547897 0.02452103]\n"
     ]
    }
   ],
   "source": [
    "\n",
    "import numpy as np\n",
    "from sklearn.decomposition import PCA\n",
    "\n",
    "data = np.array([[2,2],[3,4],[3,5],[4,5],[5,6],[7,8]])\n",
    "\n",
    "# 创建PCA对象，指定主成分的数量\n",
    "pca = PCA(n_components=2, svd_solver='full')\n",
    "\n",
    "# 对数据进行主成分分析\n",
    "pca.fit(data)\n",
    "\n",
    "# 获取主成分分析结果\n",
    "components = pca.components_  # 主成分\n",
    "explained_variance = pca.explained_variance_  # 解释方差\n",
    "explained_variance_ratio = pca.explained_variance_ratio_  # 解释方差比例\n",
    "\n",
    "print(\"主成分：\")\n",
    "print(components)\n",
    "print()\n",
    "\n",
    "print(\"解释方差：\")\n",
    "print(explained_variance)\n",
    "print()\n",
    "\n",
    "print(\"解释方差比例：\")\n",
    "print(explained_variance_ratio)"
   ]
  }
 ],
 "metadata": {
  "kernelspec": {
   "display_name": "Python 3",
   "language": "python",
   "name": "python3"
  },
  "language_info": {
   "codemirror_mode": {
    "name": "ipython",
    "version": 3
   },
   "file_extension": ".py",
   "mimetype": "text/x-python",
   "name": "python",
   "nbconvert_exporter": "python",
   "pygments_lexer": "ipython3",
   "version": "3.12.1"
  }
 },
 "nbformat": 4,
 "nbformat_minor": 2
}
