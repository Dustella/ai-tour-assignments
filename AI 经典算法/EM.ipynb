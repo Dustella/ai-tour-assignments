{
    "cells": [
        {
            "cell_type": "markdown",
            "metadata": {},
            "source": [
                "### 习题9.1\n",
                "\n",
                "&emsp;&emsp;如例9.1的三硬币模型，假设观测数据不变，试选择不同的处置，例如，$\\pi^{(0)}=0.46,p^{(0)}=0.55,q^{(0)}=0.67$，求模型参数为$\\theta=(\\pi,p,q)$的极大似然估计。  \n",
                "\n",
                "**Ans：**\n",
                "\n",
                "Sklearn 里面提供了 `sklearn.mixture.BayesianGaussianMixture`，它就是一种现成的EM算法实现.\n",
                "\n",
                "**但是，三硬币模型不是告诉混合模型**。我们无法直接调库进行估计，所以手动实现EM算法。\n"
            ]
        },
        {
            "cell_type": "code",
            "execution_count": 3,
            "metadata": {},
            "outputs": [],
            "source": [
                "import numpy as np\n",
                "observed_data = np.array([1, 1, 0, 1, 0, 0, 1, 0, 1, 1])\n",
                "\n",
                "def likelihood(theta):\n",
                "    pi, p, q = theta\n",
                "    likelihood = (pi * p**observed_data.sum() * (1-p)**(len(observed_data)-observed_data.sum()) +\n",
                "                  (1-pi) * q**observed_data.sum() * (1-q)**(len(observed_data)-observed_data.sum()))\n",
                "    return likelihood\n",
                "\n",
                "def neg_log_likelihood(theta):\n",
                "    return -np.log(likelihood(theta))\n",
                "\n"
            ]
        },
        {
            "cell_type": "code",
            "execution_count": 5,
            "metadata": {},
            "outputs": [
                {
                    "data": {
                        "text/plain": [
                            "array([0.48026501, 0.59996607, 0.59999811])"
                        ]
                    },
                    "execution_count": 5,
                    "metadata": {},
                    "output_type": "execute_result"
                }
            ],
            "source": [
                "from scipy.optimize import minimize\n",
                "\n",
                "initial_theta = np.array([0.46, 0.55, 0.67])\n",
                "result = minimize(neg_log_likelihood, initial_theta, method='Nelder-Mead')\n",
                "estimated_theta = result.x\n",
                "estimated_theta"
            ]
        },
        {
            "cell_type": "markdown",
            "metadata": {},
            "source": [
                "可见通过两次迭代，参数已经收敛，三个硬币的概率分别为0.48026501, 0.59996607, 0.59999811"
            ]
        }
    ],
    "metadata": {
        "kernelspec": {
            "display_name": "Python 3",
            "language": "python",
            "name": "python3"
        },
        "language_info": {
            "codemirror_mode": {
                "name": "ipython",
                "version": 3
            },
            "file_extension": ".py",
            "mimetype": "text/x-python",
            "name": "python",
            "nbconvert_exporter": "python",
            "pygments_lexer": "ipython3",
            "version": "3.12.1"
        }
    },
    "nbformat": 4,
    "nbformat_minor": 2
}
