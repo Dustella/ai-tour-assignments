{
    "cells": [
        {
            "cell_type": "markdown",
            "metadata": {},
            "source": [
                "### 习题3.2\n",
                "&emsp;&emsp;利用例题3.2构造的$kd$树求点$x=(3,4.5)^T$的最近邻点。\n",
                "\n",
                "**解答：**"
            ]
        },
        {
            "cell_type": "code",
            "execution_count": 1,
            "metadata": {},
            "outputs": [],
            "source": [
                "import numpy as np\n",
                "from sklearn.neighbors import KDTree\n",
                "\n",
                "train_data = np.array([(2, 3), (5, 4), (9, 6), (4, 7), (8, 1), (7, 2)])\n"
            ]
        },
        {
            "cell_type": "code",
            "execution_count": 2,
            "metadata": {},
            "outputs": [
                {
                    "name": "stdout",
                    "output_type": "stream",
                    "text": [
                        "[[0]]\n"
                    ]
                }
            ],
            "source": [
                "\n",
                "tree = KDTree(train_data, leaf_size=2)\n",
                "dist, ind = tree.query(np.array([(3, 4.5)]), k=1)\n",
                "print(ind)  # indices of 3 closest neighbors"
            ]
        },
        {
            "cell_type": "code",
            "execution_count": 3,
            "metadata": {},
            "outputs": [
                {
                    "name": "stdout",
                    "output_type": "stream",
                    "text": [
                        "x点的最近邻点是(2, 3)\n"
                    ]
                }
            ],
            "source": [
                "\n",
                "x1 = train_data[ind[0]][0][0]\n",
                "x2 = train_data[ind[0]][0][1]\n",
                "\n",
                "print(\"x点的最近邻点是({0}, {1})\".format(x1, x2))"
            ]
        }
    ],
    "metadata": {
        "kernelspec": {
            "display_name": "Python 3",
            "language": "python",
            "name": "python3"
        },
        "language_info": {
            "codemirror_mode": {
                "name": "ipython",
                "version": 3
            },
            "file_extension": ".py",
            "mimetype": "text/x-python",
            "name": "python",
            "nbconvert_exporter": "python",
            "pygments_lexer": "ipython3",
            "version": "3.12.1"
        }
    },
    "nbformat": 4,
    "nbformat_minor": 2
}
